{
 "cells": [
  {
   "cell_type": "code",
   "execution_count": 1,
   "id": "6964c04b-9832-4180-98fd-25d934decc5c",
   "metadata": {
    "tags": []
   },
   "outputs": [
    {
     "name": "stdout",
     "output_type": "stream",
     "text": [
      "True\n"
     ]
    }
   ],
   "source": [
    "import sys, os\n",
    "is_conda = os.path.exists(os.path.join(sys.prefix, 'conda-meta'))\n",
    "print(is_conda)"
   ]
  },
  {
   "cell_type": "code",
   "execution_count": 10,
   "id": "5409277f-cb5a-4a11-8084-470481c1b6e0",
   "metadata": {
    "tags": []
   },
   "outputs": [
    {
     "name": "stderr",
     "output_type": "stream",
     "text": [
      "100%|█████████▉| 399999/400000 [00:13<00:00, 30690.20it/s]\n"
     ]
    }
   ],
   "source": [
    "import torch\n",
    "import torchtext\n",
    "from torchtext.vocab import GloVe\n",
    "\n",
    "# The first time you run this will download a ~823MB file\n",
    "glove = GloVe(name=\"6B\", # trained on Wikipedia 2014 corpus\n",
    "                              dim=50)    # embedding size = 50"
   ]
  },
  {
   "cell_type": "code",
   "execution_count": 16,
   "id": "79de2e7c-622f-4dfe-af90-9ddf39d8ddbe",
   "metadata": {
    "tags": []
   },
   "outputs": [
    {
     "data": {
      "text/plain": [
       "tensor([ 0.5045,  0.6861, -0.5952, -0.0228,  0.6005, -0.1350, -0.0881,  0.4738,\n",
       "        -0.6180, -0.3101, -0.0767,  1.4930, -0.0342, -0.9817,  0.6823,  0.8172,\n",
       "        -0.5187, -0.3150, -0.5581,  0.6642,  0.1961, -0.1349, -0.1148, -0.3034,\n",
       "         0.4118, -2.2230, -1.0756, -1.0783, -0.3435,  0.3350,  1.9927, -0.0423,\n",
       "        -0.6432,  0.7113,  0.4916,  0.1675,  0.3434, -0.2566, -0.8523,  0.1661,\n",
       "         0.4010,  1.1685, -1.0137, -0.2158, -0.1515,  0.7832, -0.9124, -1.6106,\n",
       "        -0.6443, -0.5104])"
      ]
     },
     "execution_count": 16,
     "metadata": {},
     "output_type": "execute_result"
    }
   ],
   "source": [
    "king = glove['king']\n",
    "king"
   ]
  },
  {
   "cell_type": "code",
   "execution_count": 18,
   "id": "b41b7f03-9f56-4a08-b36a-c7c43cc4ed99",
   "metadata": {
    "tags": []
   },
   "outputs": [
    {
     "data": {
      "text/plain": [
       "tensor([ 0.3785,  1.8233, -1.2648, -0.1043,  0.3583,  0.6003, -0.1754,  0.8377,\n",
       "        -0.0568, -0.7580,  0.2268,  0.9859,  0.6059, -0.3142,  0.2888,  0.5601,\n",
       "        -0.7746,  0.0714, -0.5741,  0.2134,  0.5767,  0.3868, -0.1257,  0.2801,\n",
       "         0.2813, -1.8053, -1.0421, -0.1926, -0.5537, -0.0545,  1.5574,  0.3930,\n",
       "        -0.2475,  0.3425,  0.4536,  0.1624,  0.5246, -0.0703, -0.8374, -1.0326,\n",
       "         0.4595,  0.2530, -0.1784, -0.7340, -0.2002,  0.2347, -0.5609, -2.2839,\n",
       "         0.0093, -0.6028])"
      ]
     },
     "execution_count": 18,
     "metadata": {},
     "output_type": "execute_result"
    }
   ],
   "source": [
    "queen = glove['queen']\n",
    "queen"
   ]
  },
  {
   "cell_type": "code",
   "execution_count": 19,
   "id": "8c8cc927-a37f-4b43-9f2a-73c14212f205",
   "metadata": {
    "tags": []
   },
   "outputs": [],
   "source": [
    "man = glove['man']\n",
    "woman = glove['woman']"
   ]
  },
  {
   "cell_type": "code",
   "execution_count": 20,
   "id": "8fc0cb94-70ad-421d-93b7-ac6c15dbef8b",
   "metadata": {
    "tags": []
   },
   "outputs": [
    {
     "data": {
      "text/plain": [
       "tensor([0.7839])"
      ]
     },
     "execution_count": 20,
     "metadata": {},
     "output_type": "execute_result"
    }
   ],
   "source": [
    "torch.cosine_similarity(king.unsqueeze(0),\n",
    "                        queen.unsqueeze(0))"
   ]
  },
  {
   "cell_type": "code",
   "execution_count": 21,
   "id": "60716a48-4eda-4c81-bae0-b9e406782d11",
   "metadata": {
    "tags": []
   },
   "outputs": [
    {
     "data": {
      "text/plain": [
       "tensor([0.5309])"
      ]
     },
     "execution_count": 21,
     "metadata": {},
     "output_type": "execute_result"
    }
   ],
   "source": [
    "torch.cosine_similarity(king.unsqueeze(0),\n",
    "                        man.unsqueeze(0))"
   ]
  },
  {
   "cell_type": "code",
   "execution_count": 22,
   "id": "ce51fb8a-675b-4ae3-a4e4-b6a54e4715fc",
   "metadata": {
    "tags": []
   },
   "outputs": [
    {
     "data": {
      "text/plain": [
       "tensor([0.4113])"
      ]
     },
     "execution_count": 22,
     "metadata": {},
     "output_type": "execute_result"
    }
   ],
   "source": [
    "torch.cosine_similarity(king.unsqueeze(0),\n",
    "                        woman.unsqueeze(0))"
   ]
  },
  {
   "cell_type": "code",
   "execution_count": 23,
   "id": "33ca6814-0cc1-4b31-94be-8c2c75ef6d22",
   "metadata": {
    "tags": []
   },
   "outputs": [
    {
     "data": {
      "text/plain": [
       "tensor([0.8860])"
      ]
     },
     "execution_count": 23,
     "metadata": {},
     "output_type": "execute_result"
    }
   ],
   "source": [
    "torch.cosine_similarity(man.unsqueeze(0),\n",
    "                        woman.unsqueeze(0))"
   ]
  },
  {
   "cell_type": "code",
   "execution_count": 24,
   "id": "caa56f51-6faf-4940-a129-6d83713f1e82",
   "metadata": {
    "tags": []
   },
   "outputs": [
    {
     "data": {
      "text/plain": [
       "tensor([0.5367])"
      ]
     },
     "execution_count": 24,
     "metadata": {},
     "output_type": "execute_result"
    }
   ],
   "source": [
    "torch.cosine_similarity(man.unsqueeze(0),\n",
    "                        queen.unsqueeze(0))"
   ]
  },
  {
   "cell_type": "code",
   "execution_count": 25,
   "id": "e33f23ab-1370-494c-9d79-43736cf9531a",
   "metadata": {
    "tags": []
   },
   "outputs": [],
   "source": [
    "def print_closest_words(vec, n=5):\n",
    "    dists = torch.norm(glove.vectors - vec, dim=1)     # compute distances to all words\n",
    "    lst = sorted(enumerate(dists.numpy()), key=lambda x: x[1]) # sort by distance\n",
    "    for idx, difference in lst[1:n+1]: \t\t\t\t\t       # take the top n\n",
    "        print(glove.itos[idx], difference)"
   ]
  },
  {
   "cell_type": "code",
   "execution_count": 28,
   "id": "47e4b395-8ae0-49b0-b31b-7a042a6909b1",
   "metadata": {
    "tags": []
   },
   "outputs": [
    {
     "name": "stdout",
     "output_type": "stream",
     "text": [
      "[==================================================] 100.0% 66.0/66.0MB downloaded\n"
     ]
    }
   ],
   "source": [
    "import gensim.downloader as api\n",
    "\n",
    "# Load the GloVe model\n",
    "model = api.load(\"glove-wiki-gigaword-50\")\n",
    "\n",
    "# Use the model\n",
    "result = model.most_similar(positive=[\"king\", \"woman\"], negative=[\"man\"])"
   ]
  },
  {
   "cell_type": "code",
   "execution_count": 29,
   "id": "92ff5e51-a0e3-426a-8ced-80c137952089",
   "metadata": {
    "tags": []
   },
   "outputs": [
    {
     "data": {
      "text/plain": [
       "[('queen', 0.8523604273796082),\n",
       " ('throne', 0.7664334177970886),\n",
       " ('prince', 0.7592144012451172),\n",
       " ('daughter', 0.7473882436752319),\n",
       " ('elizabeth', 0.7460219860076904),\n",
       " ('princess', 0.7424570322036743),\n",
       " ('kingdom', 0.7337412238121033),\n",
       " ('monarch', 0.721449077129364),\n",
       " ('eldest', 0.7184861898422241),\n",
       " ('widow', 0.7099431157112122)]"
      ]
     },
     "execution_count": 29,
     "metadata": {},
     "output_type": "execute_result"
    }
   ],
   "source": [
    "result"
   ]
  },
  {
   "cell_type": "code",
   "execution_count": 30,
   "id": "1529904f-4732-4d95-ae3f-13d6bd3c8a2c",
   "metadata": {
    "tags": []
   },
   "outputs": [],
   "source": [
    "java_queenish = [0.67332006, -1.22644, -0.033339977, -0.776456, 0.63450104, 0.031590015, 0.90885997, 0.58699, -0.328561, -0.65879005, 0.13019899, 0.41653502, -0.24564996, -0.5697498, -0.023230001, 0.19263, 0.38347697, 0.206045, 1.08172, -1.80633, -0.21172997, 1.1398296, -0.13005996, -0.13892204, -0.06323999, -1.7328999, 0.71458596, -0.14240003, 0.670912, 0.57420003, 3.249, 0.37259, -1.069703, -0.55513, -0.44287, -0.40933004, 0.065400004, -1.1972201, -0.607821, 0.19806999, -0.47261, 0.5765767, 0.19757998, 0.13513005, -0.021974027, -0.669463, -1.4616699, -0.82707, -0.54992, 0.82176006]"
   ]
  },
  {
   "cell_type": "code",
   "execution_count": 35,
   "id": "6b8fd714-c51b-434e-8957-a27e4be0ee7f",
   "metadata": {
    "tags": []
   },
   "outputs": [
    {
     "data": {
      "text/plain": [
       "[('demands', 0.7326132655143738),\n",
       " ('actions', 0.7286003232002258),\n",
       " ('demanding', 0.7265394926071167),\n",
       " ('should', 0.7254478931427002),\n",
       " ('intervene', 0.7245380878448486),\n",
       " ('force', 0.7233016490936279),\n",
       " ('must', 0.7194575071334839),\n",
       " ('demanded', 0.7173727750778198),\n",
       " ('cannot', 0.714293360710144),\n",
       " ('not', 0.7124378085136414)]"
      ]
     },
     "execution_count": 35,
     "metadata": {},
     "output_type": "execute_result"
    }
   ],
   "source": [
    "import numpy as np\n",
    "model.similar_by_vector(np.array(java_queenish))"
   ]
  },
  {
   "cell_type": "code",
   "execution_count": 37,
   "id": "9283aaf4-7992-42ea-8883-eaf86e87b158",
   "metadata": {
    "tags": []
   },
   "outputs": [
    {
     "data": {
      "text/plain": [
       "array([ 0.50451 ,  0.68607 , -0.59517 , -0.022801,  0.60046 , -0.13498 ,\n",
       "       -0.08813 ,  0.47377 , -0.61798 , -0.31012 , -0.076666,  1.493   ,\n",
       "       -0.034189, -0.98173 ,  0.68229 ,  0.81722 , -0.51874 , -0.31503 ,\n",
       "       -0.55809 ,  0.66421 ,  0.1961  , -0.13495 , -0.11476 , -0.30344 ,\n",
       "        0.41177 , -2.223   , -1.0756  , -1.0783  , -0.34354 ,  0.33505 ,\n",
       "        1.9927  , -0.04234 , -0.64319 ,  0.71125 ,  0.49159 ,  0.16754 ,\n",
       "        0.34344 , -0.25663 , -0.8523  ,  0.1661  ,  0.40102 ,  1.1685  ,\n",
       "       -1.0137  , -0.21585 , -0.15155 ,  0.78321 , -0.91241 , -1.6106  ,\n",
       "       -0.64426 , -0.51042 ], dtype=float32)"
      ]
     },
     "execution_count": 37,
     "metadata": {},
     "output_type": "execute_result"
    }
   ],
   "source": [
    "model['king']"
   ]
  },
  {
   "cell_type": "code",
   "execution_count": null,
   "id": "f8303149-b098-4c99-a92a-20a692ccf093",
   "metadata": {},
   "outputs": [],
   "source": []
  }
 ],
 "metadata": {
  "kernelspec": {
   "display_name": "Python 3 (ipykernel)",
   "language": "python",
   "name": "python3"
  },
  "language_info": {
   "codemirror_mode": {
    "name": "ipython",
    "version": 3
   },
   "file_extension": ".py",
   "mimetype": "text/x-python",
   "name": "python",
   "nbconvert_exporter": "python",
   "pygments_lexer": "ipython3",
   "version": "3.10.10"
  }
 },
 "nbformat": 4,
 "nbformat_minor": 5
}
