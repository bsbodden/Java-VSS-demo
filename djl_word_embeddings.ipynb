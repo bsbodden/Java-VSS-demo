{
 "cells": [
  {
   "cell_type": "code",
   "execution_count": 1,
   "id": "a55658a0-0e23-4473-9cf7-5fa06cd05a24",
   "metadata": {
    "tags": [],
    "vscode": {
     "languageId": "java"
    }
   },
   "outputs": [],
   "source": [
    "// %mavenRepo snapshots https://oss.sonatype.org/content/repositories/snapshots/\n",
    "\n",
    "%maven ai.djl:api:0.22.1\n",
    "%maven ai.djl.mxnet:mxnet-engine:0.22.1\n",
    "%maven ai.djl.mxnet:mxnet-model-zoo:0.22.1\n",
    "%maven ai.djl:basicdataset:0.22.1\n",
    "%maven org.slf4j:slf4j-simple:1.7.32\n",
    "%maven org.knowm.xchart:xchart:3.8.3"
   ]
  },
  {
   "cell_type": "code",
   "execution_count": 2,
   "id": "1b02ce30-7012-454b-bfbe-bfc8461a3169",
   "metadata": {
    "tags": [],
    "vscode": {
     "languageId": "java"
    }
   },
   "outputs": [],
   "source": [
    "import ai.djl.ndarray.*;\n",
    "import ai.djl.ndarray.types.*;\n",
    "\n",
    "import ai.djl.Application;\n",
    "import ai.djl.Model;\n",
    "import ai.djl.ModelException;\n",
    "import ai.djl.modality.nlp.DefaultVocabulary;\n",
    "import ai.djl.ndarray.NDArray;\n",
    "import ai.djl.ndarray.NDList;\n",
    "import ai.djl.ndarray.NDManager;\n",
    "import ai.djl.ndarray.types.Shape;\n",
    "import ai.djl.repository.zoo.Criteria;\n",
    "import ai.djl.repository.zoo.ModelZoo;\n",
    "import ai.djl.repository.zoo.ZooModel;\n",
    "import ai.djl.modality.nlp.embedding.ModelZooTextEmbedding;\n",
    "import ai.djl.training.util.ProgressBar;\n",
    "import ai.djl.modality.Classifications;\n",
    "\n",
    "import java.io.IOException;\n",
    "import java.util.Arrays;\n",
    "import java.util.List;\n",
    "\n",
    "import org.knowm.xchart.*;\n",
    "\n",
    "import java.io.*;\n",
    "import java.util.*;\n",
    "import java.util.stream.*;"
   ]
  },
  {
   "cell_type": "code",
   "execution_count": 3,
   "id": "bfca3dcb-36c1-4d0c-9b74-864818b0745e",
   "metadata": {
    "tags": [],
    "vscode": {
     "languageId": "java"
    }
   },
   "outputs": [
    {
     "name": "stdout",
     "output_type": "stream",
     "text": [
      "Loading:     100% |████████████████████████████████████████|\n",
      "King embedding shape: (50)\n",
      "King: [0.15778, 0.2638, -0.44502, -0.46819, 0.88558, -0.11134, -0.22886, 0.25545, -0.53813, 0.33681, 0.022259, 0.6781, -0.48255, 0.0024954, 0.55938, 0.4102, 0.61032, 0.18802, 0.22943, -0.9891, -0.72062, 0.52451, 0.33157, 0.48512, 0.9676, -1.9021, -0.93215, 0.47344, 0.85667, -0.52803, 3.1994, 0.51182, -0.083763, -0.48335, -0.12347, -0.27206, -0.14103, 0.5947, -0.61738, -0.29798, -0.16374, 0.0086967, -0.12262, 0.66676, 0.097146, -0.044463, -0.27159, -0.14953, -0.22232, 0.52731]\n",
      "Queen embedding shape: (50)\n",
      "Queen: [-0.20689, 0.12289, 1.044, -0.13762, 0.077669, 0.97803, -1.0645, -0.14454, -0.29442, -0.59934, -1.9395, -0.65427, -0.010354, -0.093356, -0.57136, -0.46314, -0.38832, -0.64843, 0.041901, -0.29102, -0.53942, -0.017816, 0.77069, -0.76508, 0.76896, -2.4194, -0.075117, 0.42688, 0.11738, -0.22828, 1.4013, 0.60679, -0.76996, -0.70209, -0.63007, -1.2013, -0.68098, 0.69822, -1.0322, -0.99351, -0.24728, 0.28678, -0.94353, 0.33223, 0.037776, -0.23303, -0.76799, 0.31888, -0.066686, 1.3556]\n"
     ]
    }
   ],
   "source": [
    "NDArray kingEmbedding;\n",
    "NDArray queenEmbedding;\n",
    "NDArray manEmbedding;\n",
    "NDArray womanEmbedding;\n",
    "\n",
    "Criteria<String, NDList> criteria =\n",
    "        Criteria.builder()\n",
    "                .optApplication(Application.NLP.WORD_EMBEDDING)\n",
    "                .setTypes(String.class, NDList.class)\n",
    "                .optArtifactId(\"ai.djl.mxnet:glove\")\n",
    "                .optFilter(\"dimensions\", \"50\")\n",
    "                .optProgress(new ProgressBar())\n",
    "                .build();\n",
    "\n",
    "ZooModel<String, NDList> model = criteria.loadModel();\n",
    "ModelZooTextEmbedding embedding = new ModelZooTextEmbedding(model);\n",
    "\n",
    "NDManager manager = model.getNDManager();\n",
    "\n",
    "List<String> words = Arrays.asList(\"king\", \"queen\", \"man\", \"woman\");\n",
    "\n",
    "NDList result = new NDList(embedding.embedText(manager, words));\n",
    "\n",
    "kingEmbedding = result.get(0).get(0);\n",
    "queenEmbedding = result.get(0).get(1);\n",
    "manEmbedding = result.get(0).get(2);\n",
    "womanEmbedding = result.get(0).get(3);\n",
    "\n",
    "System.out.println(\"King embedding shape: \" + kingEmbedding.getShape());\n",
    "System.out.println(\"King: \" + Arrays.toString(kingEmbedding.toFloatArray()));\n",
    "\n",
    "System.out.println(\"Queen embedding shape: \" + queenEmbedding.getShape());\n",
    "System.out.println(\"Queen: \" + Arrays.toString(queenEmbedding.toFloatArray()));"
   ]
  },
  {
   "cell_type": "code",
   "execution_count": 4,
   "id": "c1edbfc5-5818-48a4-88cc-fd1d1916e528",
   "metadata": {
    "tags": []
   },
   "outputs": [],
   "source": [
    "import java.awt.Color;\n",
    "import java.awt.Font;\n",
    "import java.awt.FontMetrics;\n",
    "import java.awt.Graphics2D;\n",
    "import java.awt.image.BufferedImage;\n",
    "import java.io.File;\n",
    "import javax.imageio.ImageIO;\n",
    "\n",
    "public static BufferedImage visualizeEmbedding(String embeddingName, NDArray embedding, int cellWidth, int cellHeight, boolean printValues) {\n",
    "    int size = (int) embedding.size();\n",
    "    int imageWidth = cellWidth * size;\n",
    "\n",
    "    // Adding some space for the name and values\n",
    "    int padding = 50;\n",
    "    int imageHeight = cellHeight + padding;\n",
    "\n",
    "    BufferedImage image = new BufferedImage(imageWidth, imageHeight, BufferedImage.TYPE_INT_RGB);\n",
    "    Graphics2D g = image.createGraphics();\n",
    "\n",
    "    // Set the font and draw the embedding name\n",
    "    g.setFont(new Font(\"Arial\", Font.BOLD, 16));\n",
    "    FontMetrics metrics = g.getFontMetrics();\n",
    "    g.drawString(embeddingName, 5, metrics.getHeight());\n",
    "\n",
    "    for (int i = 0; i < size; i++) {\n",
    "        float value = embedding.getFloat(i);\n",
    "        float normalizedValue = (value + 2) / 4; // Normalize the value between 0 and 1\n",
    "        normalizedValue = Math.max(0, Math.min(1, normalizedValue)); // Ensure value is between 0 and 1\n",
    "\n",
    "        // Linearly interpolate between blue and white for values below 0.5 and between white and red for values above 0.5\n",
    "        float red = normalizedValue > 0.5 ? 1 : 2 * normalizedValue;\n",
    "        float green = normalizedValue > 0.5 ? 2 * (1 - normalizedValue) : 2 * normalizedValue;\n",
    "        float blue = normalizedValue > 0.5 ? 2 * (1 - normalizedValue) : 1;\n",
    "\n",
    "        Color color = new Color(red, green, blue);\n",
    "\n",
    "        for (int h = padding; h < imageHeight; h++) {\n",
    "            for (int w = i * cellWidth; w < (i + 1) * cellWidth; w++) {\n",
    "                image.setRGB(w, h, color.getRGB());\n",
    "            }\n",
    "        }\n",
    "\n",
    "        // If printValues is true, print the value of each cell\n",
    "        if (printValues) {\n",
    "            g.setColor(Color.BLACK);\n",
    "            g.drawString(String.format(\"%.2f\", value), i * cellWidth, imageHeight - 5);\n",
    "        }\n",
    "    }\n",
    "\n",
    "    g.dispose();\n",
    "\n",
    "    return image;\n",
    "}"
   ]
  },
  {
   "cell_type": "code",
   "execution_count": 5,
   "id": "d14a7574-dc6c-4c1a-8fd6-50f4aac91610",
   "metadata": {
    "tags": []
   },
   "outputs": [],
   "source": [
    "int cellWidth = 20;"
   ]
  },
  {
   "cell_type": "code",
   "execution_count": 6,
   "id": "2e06259b-b607-4d0a-9594-1387cfbd7ace",
   "metadata": {
    "tags": []
   },
   "outputs": [
    {
     "data": {
      "image/png": "[encoded data removed]",
      "text/plain": [
       "BufferedImage@428bab13: type = 1 DirectColorModel: rmask=ff0000 gmask=ff00 bmask=ff amask=0 IntegerInterleavedRaster: width = 1000 height = 100 #Bands = 3 xOff = 0 yOff = 0 dataOffset[0] 0"
      ]
     },
     "execution_count": 6,
     "metadata": {},
     "output_type": "execute_result"
    }
   ],
   "source": [
    "visualizeEmbedding(\"King\", kingEmbedding, cellWidth, 50, false);"
   ]
  },
  {
   "cell_type": "code",
   "execution_count": 7,
   "id": "54bfea96-0b4b-45f3-96cd-031c0ed2ec39",
   "metadata": {
    "tags": []
   },
   "outputs": [
    {
     "data": {
      "image/png": "[encoded data removed]",
      "text/plain": [
       "BufferedImage@403e4de5: type = 1 DirectColorModel: rmask=ff0000 gmask=ff00 bmask=ff amask=0 IntegerInterleavedRaster: width = 1000 height = 100 #Bands = 3 xOff = 0 yOff = 0 dataOffset[0] 0"
      ]
     },
     "execution_count": 7,
     "metadata": {},
     "output_type": "execute_result"
    }
   ],
   "source": [
    "visualizeEmbedding(\"Queen\", queenEmbedding, cellWidth, 50, false);"
   ]
  },
  {
   "cell_type": "code",
   "execution_count": 8,
   "id": "1ee2b74d-fda2-4c7a-a607-552f43c5fa28",
   "metadata": {
    "tags": []
   },
   "outputs": [
    {
     "data": {
      "image/png": "[encoded data removed]",
      "text/plain": [
       "BufferedImage@a7e506e: type = 1 DirectColorModel: rmask=ff0000 gmask=ff00 bmask=ff amask=0 IntegerInterleavedRaster: width = 1000 height = 100 #Bands = 3 xOff = 0 yOff = 0 dataOffset[0] 0"
      ]
     },
     "execution_count": 8,
     "metadata": {},
     "output_type": "execute_result"
    }
   ],
   "source": [
    "visualizeEmbedding(\"Man\", manEmbedding, cellWidth, 50, false);"
   ]
  },
  {
   "cell_type": "code",
   "execution_count": 9,
   "id": "fd91526f-ffa7-4009-9e91-8669844296f9",
   "metadata": {
    "tags": []
   },
   "outputs": [
    {
     "data": {
      "image/png": "[encoded data removed]",
      "text/plain": [
       "BufferedImage@5c76465f: type = 1 DirectColorModel: rmask=ff0000 gmask=ff00 bmask=ff amask=0 IntegerInterleavedRaster: width = 1000 height = 100 #Bands = 3 xOff = 0 yOff = 0 dataOffset[0] 0"
      ]
     },
     "execution_count": 9,
     "metadata": {},
     "output_type": "execute_result"
    }
   ],
   "source": [
    "visualizeEmbedding(\"Woman\", womanEmbedding, cellWidth, 50, false);"
   ]
  },
  {
   "cell_type": "code",
   "execution_count": 10,
   "id": "e25addd0-5402-4e03-9dd4-14bb1b54fb10",
   "metadata": {
    "tags": []
   },
   "outputs": [
    {
     "data": {
      "image/png": "[encoded data removed]",
      "text/plain": [
       "BufferedImage@538d83be: type = 1 DirectColorModel: rmask=ff0000 gmask=ff00 bmask=ff amask=0 IntegerInterleavedRaster: width = 1000 height = 100 #Bands = 3 xOff = 0 yOff = 0 dataOffset[0] 0"
      ]
     },
     "execution_count": 10,
     "metadata": {},
     "output_type": "execute_result"
    }
   ],
   "source": [
    "NDArray queenIsh = kingEmbedding.sub(manEmbedding).add(womanEmbedding);\n",
    "visualizeEmbedding(\"King - Man + Woman\", queenIsh, cellWidth, 50, false);"
   ]
  },
  {
   "cell_type": "code",
   "execution_count": 11,
   "id": "f6e1acd3-48e1-406a-829c-f176b67585d7",
   "metadata": {
    "tags": []
   },
   "outputs": [
    {
     "name": "stdout",
     "output_type": "stream",
     "text": [
      "queenIsh embedding shape: (50)\n",
      "queenIsh: [0.67332006, -1.22644, -0.033339977, -0.776456, 0.63450104, 0.031590015, 0.90885997, 0.58699, -0.328561, -0.65879005, 0.13019899, 0.41653502, -0.24564996, -0.5697498, -0.023230001, 0.19263, 0.38347697, 0.206045, 1.08172, -1.80633, -0.21172997, 1.1398296, -0.13005996, -0.13892204, -0.06323999, -1.7328999, 0.71458596, -0.14240003, 0.670912, 0.57420003, 3.249, 0.37259, -1.069703, -0.55513, -0.44287, -0.40933004, 0.065400004, -1.1972201, -0.607821, 0.19806999, -0.47261, 0.5765767, 0.19757998, 0.13513005, -0.021974027, -0.669463, -1.4616699, -0.82707, -0.54992, 0.82176006]\n"
     ]
    }
   ],
   "source": [
    "System.out.println(\"queenIsh embedding shape: \" + queenIsh.getShape());\n",
    "System.out.println(\"queenIsh: \" + Arrays.toString(queenIsh.toFloatArray()));"
   ]
  },
  {
   "cell_type": "code",
   "execution_count": 12,
   "id": "737ace71-e86d-4956-828b-bef99bde69b8",
   "metadata": {
    "tags": []
   },
   "outputs": [],
   "source": [
    "public static NDArray pairwiseDistance(NDArray A, NDArray B) {\n",
    "    return A.sub(B).square().sum(new int[]{0}).sqrt();\n",
    "}"
   ]
  },
  {
   "cell_type": "code",
   "execution_count": 13,
   "id": "ef56a3aa-d577-446b-a591-ff572efdf4a7",
   "metadata": {
    "tags": []
   },
   "outputs": [],
   "source": [
    "public static float cosineSimilarity(NDArray a, NDArray b) {\n",
    "    NDArray dotProduct = a.dot(b);\n",
    "    float normA = a.norm().getFloat();\n",
    "    float normB = b.norm().getFloat();\n",
    "    return dotProduct.getFloat() / (normA * normB);\n",
    "}"
   ]
  },
  {
   "cell_type": "code",
   "execution_count": 14,
   "id": "4fb25bb0-3a14-4c94-a952-b75c8ac34d63",
   "metadata": {
    "tags": []
   },
   "outputs": [],
   "source": [
    "public static float euclideanDistance(NDArray a, NDArray b) {\n",
    "    NDArray dist = a.sub(b).norm(); \n",
    "    return dist.getFloat();\n",
    "}"
   ]
  },
  {
   "cell_type": "code",
   "execution_count": 15,
   "id": "e4eb18f8-fa37-4e6c-a02d-bdbda40dddbd",
   "metadata": {
    "tags": []
   },
   "outputs": [],
   "source": [
    "import java.util.AbstractMap.SimpleEntry;\n",
    "import ai.djl.ndarray.NDArray;\n",
    "\n",
    "public static String cosineSimilarityTable(AbstractMap.SimpleEntry<String, NDArray>... entries) {\n",
    "    StringBuilder table = new StringBuilder();\n",
    "\n",
    "    // Table header\n",
    "    table.append(\"|             | \");\n",
    "    for (AbstractMap.SimpleEntry<String, NDArray> entry : entries) {\n",
    "        table.append(entry.getKey()).append(\" | \");\n",
    "    }\n",
    "    table.append(\"\\n\");\n",
    "\n",
    "    // Table delimiter\n",
    "    table.append(\"|-------------| \");\n",
    "    for (int i = 0; i < entries.length; i++) {\n",
    "        table.append(\"------------| \");\n",
    "    }\n",
    "    table.append(\"\\n\");\n",
    "\n",
    "    // Table body\n",
    "    for (AbstractMap.SimpleEntry<String, NDArray> entryRow : entries) {\n",
    "        table.append(\"| \").append(entryRow.getKey()).append(\" | \");\n",
    "        for (AbstractMap.SimpleEntry<String, NDArray> entryColumn : entries) {\n",
    "            table.append(cosineSimilarity(entryRow.getValue(), entryColumn.getValue())).append(\" | \");\n",
    "        }\n",
    "        table.append(\"\\n\");\n",
    "    }\n",
    "\n",
    "    return table.toString();\n",
    "}"
   ]
  },
  {
   "cell_type": "code",
   "execution_count": 16,
   "id": "3da25a4f-3c83-4436-873b-f7b09ce69b2f",
   "metadata": {
    "tags": []
   },
   "outputs": [],
   "source": [
    "import java.util.AbstractMap.SimpleEntry;\n",
    "import ai.djl.ndarray.NDArray;\n",
    "\n",
    "public static String euclideanDistanceTable(AbstractMap.SimpleEntry<String, NDArray>... entries) {\n",
    "    StringBuilder table = new StringBuilder();\n",
    "\n",
    "    // Table header\n",
    "    table.append(\"|             | \");\n",
    "    for (AbstractMap.SimpleEntry<String, NDArray> entry : entries) {\n",
    "        table.append(entry.getKey()).append(\" | \");\n",
    "    }\n",
    "    table.append(\"\\n\");\n",
    "\n",
    "    // Table delimiter\n",
    "    table.append(\"|-------------| \");\n",
    "    for (int i = 0; i < entries.length; i++) {\n",
    "        table.append(\"------------| \");\n",
    "    }\n",
    "    table.append(\"\\n\");\n",
    "\n",
    "    // Table body\n",
    "    for (AbstractMap.SimpleEntry<String, NDArray> entryRow : entries) {\n",
    "        table.append(\"| \").append(entryRow.getKey()).append(\" | \");\n",
    "        for (AbstractMap.SimpleEntry<String, NDArray> entryColumn : entries) {\n",
    "            table.append(euclideanDistance(entryRow.getValue(), entryColumn.getValue())).append(\" | \");\n",
    "        }\n",
    "        table.append(\"\\n\");\n",
    "    }\n",
    "\n",
    "    return table.toString();\n",
    "}"
   ]
  },
  {
   "cell_type": "code",
   "execution_count": 17,
   "id": "d3d67e2c-7a0b-4399-a0ff-596ccaf4074b",
   "metadata": {
    "tags": []
   },
   "outputs": [],
   "source": [
    "String cosineSimilarities = cosineSimilarityTable(\n",
    "    new SimpleEntry<>(\"King\", kingEmbedding), \n",
    "    new SimpleEntry<>(\"Queen\", queenEmbedding), \n",
    "    new SimpleEntry<>(\"Man\", manEmbedding), \n",
    "    new SimpleEntry<>(\"Woman\", womanEmbedding),\n",
    "    new SimpleEntry<>(\"King - Man + Woman\", queenIsh)\n",
    ");"
   ]
  },
  {
   "cell_type": "code",
   "execution_count": 18,
   "id": "c570c2f5-13f4-41ad-a64a-5bd2f9b0318f",
   "metadata": {
    "tags": []
   },
   "outputs": [
    {
     "data": {
      "text/markdown": [
       "|             | King | Queen | Man | Woman | King - Man + Woman | \n",
       "|-------------| ------------| ------------| ------------| ------------| ------------| \n",
       "| King | 0.99999994 | 0.48587015 | 0.59400713 | 0.36629754 | 0.6379426 | \n",
       "| Queen | 0.48587015 | 1.0000001 | 0.3360686 | 0.28942698 | 0.36757925 | \n",
       "| Man | 0.59400713 | 0.3360686 | 1.0000001 | 0.6100262 | 0.14799908 | \n",
       "| Woman | 0.36629754 | 0.28942698 | 0.6100262 | 0.9999997 | 0.6598337 | \n",
       "| King - Man + Woman | 0.6379426 | 0.36757925 | 0.14799908 | 0.6598337 | 1.0000002 | \n"
      ],
      "text/plain": [
       "|             | King | Queen | Man | Woman | King - Man + Woman | \n",
       "|-------------| ------------| ------------| ------------| ------------| ------------| \n",
       "| King | 0.99999994 | 0.48587015 | 0.59400713 | 0.36629754 | 0.6379426 | \n",
       "| Queen | 0.48587015 | 1.0000001 | 0.3360686 | 0.28942698 | 0.36757925 | \n",
       "| Man | 0.59400713 | 0.3360686 | 1.0000001 | 0.6100262 | 0.14799908 | \n",
       "| Woman | 0.36629754 | 0.28942698 | 0.6100262 | 0.9999997 | 0.6598337 | \n",
       "| King - Man + Woman | 0.6379426 | 0.36757925 | 0.14799908 | 0.6598337 | 1.0000002 | \n"
      ]
     },
     "metadata": {},
     "output_type": "display_data"
    },
    {
     "data": {
      "text/plain": [
       "0b064724-bce5-4f09-906a-785632b5a9f4"
      ]
     },
     "execution_count": 18,
     "metadata": {},
     "output_type": "execute_result"
    }
   ],
   "source": [
    "import io.github.spencerpark.ijava.runtime.Display;\n",
    "\n",
    "Display.display(cosineSimilarities, \"text/markdown\");"
   ]
  },
  {
   "cell_type": "code",
   "execution_count": 19,
   "id": "12e8fd6a-cc80-48d8-8ae8-fd3d252e83ca",
   "metadata": {
    "tags": []
   },
   "outputs": [],
   "source": [
    "String euclideanDistances = euclideanDistanceTable(\n",
    "    new SimpleEntry<>(\"King\", kingEmbedding), \n",
    "    new SimpleEntry<>(\"Queen\", queenEmbedding), \n",
    "    new SimpleEntry<>(\"Man\", manEmbedding), \n",
    "    new SimpleEntry<>(\"Woman\", womanEmbedding),\n",
    "    new SimpleEntry<>(\"King - Man + Woman\", queenIsh)\n",
    ");"
   ]
  },
  {
   "cell_type": "code",
   "execution_count": 20,
   "id": "2bd2c463-ea71-4917-81a5-a7daf895d7f7",
   "metadata": {
    "tags": []
   },
   "outputs": [
    {
     "data": {
      "text/markdown": [
       "|             | King | Queen | Man | Woman | King - Man + Woman | \n",
       "|-------------| ------------| ------------| ------------| ------------| ------------| \n",
       "| King | 0.0 | 5.283627 | 4.65878 | 5.80773 | 4.7052336 | \n",
       "| Queen | 5.283627 | 0.0 | 6.1915126 | 6.398635 | 6.3748035 | \n",
       "| Man | 4.65878 | 6.1915126 | 0.0 | 4.705233 | 7.345555 | \n",
       "| Woman | 5.80773 | 6.398635 | 4.705233 | 0.0 | 4.65878 | \n",
       "| King - Man + Woman | 4.7052336 | 6.3748035 | 7.345555 | 4.65878 | 0.0 | \n"
      ],
      "text/plain": [
       "|             | King | Queen | Man | Woman | King - Man + Woman | \n",
       "|-------------| ------------| ------------| ------------| ------------| ------------| \n",
       "| King | 0.0 | 5.283627 | 4.65878 | 5.80773 | 4.7052336 | \n",
       "| Queen | 5.283627 | 0.0 | 6.1915126 | 6.398635 | 6.3748035 | \n",
       "| Man | 4.65878 | 6.1915126 | 0.0 | 4.705233 | 7.345555 | \n",
       "| Woman | 5.80773 | 6.398635 | 4.705233 | 0.0 | 4.65878 | \n",
       "| King - Man + Woman | 4.7052336 | 6.3748035 | 7.345555 | 4.65878 | 0.0 | \n"
      ]
     },
     "metadata": {},
     "output_type": "display_data"
    },
    {
     "data": {
      "text/plain": [
       "17da6751-130e-45f6-9717-ee47bf9c42c5"
      ]
     },
     "execution_count": 20,
     "metadata": {},
     "output_type": "execute_result"
    }
   ],
   "source": [
    "Display.display(euclideanDistances, \"text/markdown\");"
   ]
  },
  {
   "cell_type": "code",
   "execution_count": 21,
   "id": "a6594a4d-eb82-47eb-ba6a-9451eb87e982",
   "metadata": {
    "tags": []
   },
   "outputs": [],
   "source": [
    "// Close DLJ resources\n",
    "model.close();\n",
    "embedding.close();"
   ]
  }
 ],
 "metadata": {
  "kernelspec": {
   "display_name": "Java",
   "language": "java",
   "name": "java"
  },
  "language_info": {
   "codemirror_mode": "java",
   "file_extension": ".jshell",
   "mimetype": "text/x-java-source",
   "name": "Java",
   "pygments_lexer": "java",
   "version": "17.0.7+7-Ubuntu-0ubuntu122.04.2"
  }
 },
 "nbformat": 4,
 "nbformat_minor": 5
}
